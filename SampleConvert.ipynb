{
 "cells": [
  {
   "cell_type": "code",
   "execution_count": 18,
   "metadata": {
    "ExecuteTime": {
     "end_time": "2021-04-02T23:25:33.637900Z",
     "start_time": "2021-04-02T23:25:33.632041Z"
    }
   },
   "outputs": [],
   "source": [
    "import math\n",
    "import numpy as np\n",
    "import pandas as pd"
   ]
  },
  {
   "cell_type": "code",
   "execution_count": 19,
   "metadata": {
    "ExecuteTime": {
     "end_time": "2021-04-02T23:25:33.662991Z",
     "start_time": "2021-04-02T23:25:33.640092Z"
    }
   },
   "outputs": [],
   "source": [
    "X = pd.read_csv(\"Data/BreastCancerDiagnostic.csv\", header=None)\n",
    "Y = X.iloc[:,-1:]\n",
    "X = X.iloc[:, :-1] # The last column is dependent variable\n",
    "X = X.to_numpy()\n",
    "Y = Y.to_numpy()"
   ]
  },
  {
   "cell_type": "code",
   "execution_count": 20,
   "metadata": {
    "ExecuteTime": {
     "end_time": "2021-04-02T23:25:33.671083Z",
     "start_time": "2021-04-02T23:25:33.665807Z"
    }
   },
   "outputs": [],
   "source": [
    "assert(X.shape == (569, 31))\n",
    "assert(X[0,0] == 842302)\n",
    "assert(X[0,1] == 17.99)\n",
    "assert(X[0,2] == 10.38)\n",
    "assert(X[0,3] == 122.80)\n",
    "assert(np.sum(X) == 17282628559.459633)"
   ]
  },
  {
   "cell_type": "code",
   "execution_count": 21,
   "metadata": {
    "ExecuteTime": {
     "end_time": "2021-04-02T23:25:33.682402Z",
     "start_time": "2021-04-02T23:25:33.673229Z"
    }
   },
   "outputs": [],
   "source": [
    "def norm_variance(X):\n",
    "    return (X - X.mean(axis=0)) / X.std(axis=0)\n",
    "\n",
    "def norm_scale01(X):\n",
    "    mi = np.min(X, axis=0)\n",
    "    ma = np.max(X, axis=0)\n",
    "    return (X - mi) / (ma - mi);"
   ]
  },
  {
   "cell_type": "code",
   "execution_count": 22,
   "metadata": {
    "ExecuteTime": {
     "end_time": "2021-04-02T23:25:33.697542Z",
     "start_time": "2021-04-02T23:25:33.684287Z"
    }
   },
   "outputs": [],
   "source": [
    "X1 = norm_variance(X)\n",
    "assert(math.isclose(X1[:,0][0], -0.23640516608195175))\n",
    "assert(math.isclose(X1[:,0][1], -0.23640344485199363))\n",
    "assert(math.isclose(X1[:,0][2],  0.4317410864880675))\n",
    "assert(math.isclose(X1[:,0][3],  0.4321205416394822))\n",
    "assert(math.isclose(X1[:,0][4],  0.4322014074246301))\n",
    "assert(math.isclose(X1[:,0][5], -0.23639328559238046))\n",
    "\n",
    "X2 = norm_scale01(X1)\n",
    "assert(math.isclose(X2[:,0][0],  0.000914760426374012))\n",
    "assert(math.isclose(X2[:,0][1],  0.000914996350008985))\n",
    "assert(math.isclose(X2[:,0][2],  0.0924954884158686))\n",
    "assert(math.isclose(X2[:,0][3],  0.0925474991528476))\n",
    "assert(math.isclose(X2[:,0][4],  0.0925585831744144))\n",
    "assert(math.isclose(X2[:,0][5],  0.000916388848114947))"
   ]
  },
  {
   "cell_type": "code",
   "execution_count": 23,
   "metadata": {
    "ExecuteTime": {
     "end_time": "2021-04-02T23:25:33.707821Z",
     "start_time": "2021-04-02T23:25:33.699605Z"
    }
   },
   "outputs": [],
   "source": [
    "assert(math.isclose(X2[:,0][0],  0.000914760426374012)) # First row (sample)\n",
    "assert(math.isclose(X2[:,0][1],  0.000914996350008985))\n",
    "assert(math.isclose(X2[:,0][2],  0.0924954884158686))\n",
    "assert(math.isclose(X2[:,0][3],  0.0925474991528476))\n",
    "assert(math.isclose(X2[:,0][4],  0.0925585831744144))\n",
    "assert(math.isclose(X2[:,0][5],  0.000916388848114947))"
   ]
  },
  {
   "cell_type": "code",
   "execution_count": 24,
   "metadata": {
    "ExecuteTime": {
     "end_time": "2021-04-02T23:25:33.720016Z",
     "start_time": "2021-04-02T23:25:33.709682Z"
    }
   },
   "outputs": [],
   "source": [
    "Y_ = Y.transpose()\n",
    "for i in range(1, 19):\n",
    "    assert(Y_[0][i] == 1)\n",
    "for i in range(19,22):\n",
    "    assert(Y_[0][i] == -1)\n",
    "for i in range(22,26):\n",
    "    assert(Y_[0][i] == 1)"
   ]
  },
  {
   "cell_type": "code",
   "execution_count": 25,
   "metadata": {
    "ExecuteTime": {
     "end_time": "2021-04-02T23:25:33.733557Z",
     "start_time": "2021-04-02T23:25:33.722314Z"
    }
   },
   "outputs": [],
   "source": [
    "d = X1.shape[1]\n",
    "px = 1\n",
    "gap = 0\n",
    "N = X1.shape[0]\n",
    "imgSz = ((px*d+gap*(d+1)), (px*d+gap*(d+1)))\n",
    "maxBarHeight = imgSz[0] - 2*px"
   ]
  },
  {
   "cell_type": "code",
   "execution_count": 26,
   "metadata": {
    "ExecuteTime": {
     "end_time": "2021-04-02T23:25:33.749642Z",
     "start_time": "2021-04-02T23:25:33.737159Z"
    }
   },
   "outputs": [],
   "source": [
    "imgageGPU = np.zeros((imgSz[0], imgSz[1], N))\n",
    "assert(imgageGPU.shape == (31, 31, 569))"
   ]
  },
  {
   "cell_type": "code",
   "execution_count": 27,
   "metadata": {
    "ExecuteTime": {
     "end_time": "2021-04-02T23:25:33.763620Z",
     "start_time": "2021-04-02T23:25:33.752781Z"
    }
   },
   "outputs": [
    {
     "data": {
      "text/plain": [
       "array([0.00091476, 0.52103744, 0.0226581 , 0.54598853, 0.36373277,\n",
       "       0.59375282, 0.7920373 , 0.70313964, 0.73111332, 0.68636364,\n",
       "       0.60551811, 0.35614702, 0.12046941, 0.3690336 , 0.27381126,\n",
       "       0.15929565, 0.35139844, 0.13568182, 0.30062512, 0.31164518,\n",
       "       0.18304244, 0.62077552, 0.14152452, 0.66831017, 0.45069799,\n",
       "       0.60113584, 0.61929156, 0.56861022, 0.91202749, 0.59846245,\n",
       "       0.41886396])"
      ]
     },
     "execution_count": 27,
     "metadata": {},
     "output_type": "execute_result"
    }
   ],
   "source": [
    "X2[0,:]"
   ]
  },
  {
   "cell_type": "code",
   "execution_count": 28,
   "metadata": {
    "ExecuteTime": {
     "end_time": "2021-04-02T23:25:33.849545Z",
     "start_time": "2021-04-02T23:25:33.765773Z"
    }
   },
   "outputs": [],
   "source": [
    "for i in range(N):\n",
    "    barI = np.floor(maxBarHeight * X2[i,:]).astype(int)\n",
    "    k = 1\n",
    "    j = gap + 1\n",
    "    # Upside down images will be created\n",
    "    while j < imgSz[1]-gap:\n",
    "        for i in range(barI[k]):\n",
    "            imgageGPU[i, j+px-1, i] = 1\n",
    "        j += (gap + px)"
   ]
  },
  {
   "cell_type": "code",
   "execution_count": 29,
   "metadata": {
    "ExecuteTime": {
     "end_time": "2021-04-02T23:25:33.862412Z",
     "start_time": "2021-04-02T23:25:33.851537Z"
    }
   },
   "outputs": [
    {
     "data": {
      "text/plain": [
       "(31, 31, 569)"
      ]
     },
     "execution_count": 29,
     "metadata": {},
     "output_type": "execute_result"
    }
   ],
   "source": [
    "imgageGPU.shape"
   ]
  },
  {
   "cell_type": "code",
   "execution_count": null,
   "metadata": {},
   "outputs": [],
   "source": []
  }
 ],
 "metadata": {
  "kernelspec": {
   "display_name": "Python 3",
   "language": "python",
   "name": "python3"
  },
  "language_info": {
   "codemirror_mode": {
    "name": "ipython",
    "version": 3
   },
   "file_extension": ".py",
   "mimetype": "text/x-python",
   "name": "python",
   "nbconvert_exporter": "python",
   "pygments_lexer": "ipython3",
   "version": "3.7.6"
  },
  "toc": {
   "base_numbering": 1,
   "nav_menu": {},
   "number_sections": false,
   "sideBar": true,
   "skip_h1_title": false,
   "title_cell": "Table of Contents",
   "title_sidebar": "Contents",
   "toc_cell": false,
   "toc_position": {},
   "toc_section_display": true,
   "toc_window_display": false
  }
 },
 "nbformat": 4,
 "nbformat_minor": 5
}
